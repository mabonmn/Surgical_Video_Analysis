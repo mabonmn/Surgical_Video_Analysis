{
  "nbformat": 4,
  "nbformat_minor": 0,
  "metadata": {
    "colab": {
      "name": "P7.ipynb",
      "provenance": [],
      "collapsed_sections": [],
      "toc_visible": true,
      "authorship_tag": "ABX9TyO5z1+7aZ9HLrNP7OLaDNbq",
      "include_colab_link": true
    },
    "kernelspec": {
      "name": "python3",
      "display_name": "Python 3"
    },
    "language_info": {
      "name": "python"
    }
  },
  "cells": [
    {
      "cell_type": "markdown",
      "metadata": {
        "id": "view-in-github",
        "colab_type": "text"
      },
      "source": [
        "<a href=\"https://colab.research.google.com/github/mabonmn/Surgical_Video_Analysis/blob/main/Informative_and_non-informative_frames.ipynb\" target=\"_parent\"><img src=\"https://colab.research.google.com/assets/colab-badge.svg\" alt=\"Open In Colab\"/></a>"
      ]
    },
    {
      "cell_type": "markdown",
      "source": [
        "#Packages\n",
        "\n"
      ],
      "metadata": {
        "id": "Bj8c374A_jDM"
      }
    },
    {
      "cell_type": "code",
      "execution_count": null,
      "metadata": {
        "id": "FvBeqxtq8zzT"
      },
      "outputs": [],
      "source": [
        "#MADE BY MABON MANOJ NINAN - UNIVERSITY OF CINCINATI\n",
        "#MEDHI NOURIZI\n",
        "\n",
        "import cv2\n",
        "import numpy as np\n",
        "import math\n",
        "from matplotlib import pyplot as plt\n",
        "import os\n",
        "import re\n",
        "import time\n",
        "import shutil\n",
        "from sklearn.cluster import KMean"
      ]
    },
    {
      "cell_type": "code",
      "source": [
        "from google.colab import drive\n",
        "drive.mount('/content/gdrive')\n",
        "vid_path='/content/gdrive/MyDrive/Feature Extraction - Mabon/Surgical Video_p7/LDN.mpg'"
      ],
      "metadata": {
        "colab": {
          "base_uri": "https://localhost:8080/"
        },
        "id": "7LwItZ_y-raX",
        "outputId": "2448ad13-13d7-4198-e4bf-577e1367edb5"
      },
      "execution_count": null,
      "outputs": [
        {
          "output_type": "stream",
          "name": "stdout",
          "text": [
            "Mounted at /content/gdrive\n"
          ]
        }
      ]
    },
    {
      "cell_type": "markdown",
      "source": [
        "#Paths And Temp Folder"
      ],
      "metadata": {
        "id": "igPZvY94ACDW"
      }
    },
    {
      "cell_type": "code",
      "source": [
        "path='/content/temp'\n",
        "out='/content/output_dir'\n",
        "isExists = os.path.exists(path)\n",
        "isExists2 = os.path.exists(out)\n",
        "if not isExists:\n",
        "  os.makedirs(path)\n",
        "  print(\" The directory was created successfully\")\n",
        "else:\n",
        "  print(\" Directory already exists\")\n",
        "if not isExists2:\n",
        "  os.makedirs(out)\n",
        "  print(\" The directory was created successfully\")\n",
        "else:\n",
        "  print(\" Directory already exists\")"
      ],
      "metadata": {
        "colab": {
          "base_uri": "https://localhost:8080/"
        },
        "id": "qCfMYbzh9IuJ",
        "outputId": "35fd7fa4-aa01-4124-fc5f-eb54ffdcf51d"
      },
      "execution_count": null,
      "outputs": [
        {
          "output_type": "stream",
          "name": "stdout",
          "text": [
            " Directory already exists\n",
            " The directory was created successfully\n"
          ]
        }
      ]
    },
    {
      "cell_type": "markdown",
      "source": [
        "#Segments from video that contain the actual surgery"
      ],
      "metadata": {
        "id": "0R0r-5EuEh1c"
      }
    },
    {
      "cell_type": "code",
      "source": [
        "start_time = [0, 222, 514, 1008, 1328, 1636, 2132, 2464, 2976, 5589, 5630, 5668]\n",
        "end_time = [160, 425, 629, 1176, 1444, 1741, 2180, 2513, 3013, 5615, 5650, 5685]"
      ],
      "metadata": {
        "id": "VjbcenZiBGzP"
      },
      "execution_count": null,
      "outputs": []
    },
    {
      "cell_type": "markdown",
      "source": [
        "#Extracting the frames form the video According to the Predifined Useful segments\n"
      ],
      "metadata": {
        "id": "NJKX8GcuFC7c"
      }
    },
    {
      "cell_type": "code",
      "source": [
        "cap = cv2.VideoCapture(vid_path)\n",
        "fps = cap.get(cv2.CAP_PROP_FPS)\n",
        "total_frames = cap.get(cv2.CAP_PROP_FRAME_COUNT)\n",
        "total_seconds = total_frames / fps\n",
        "\n",
        "\n",
        "if isinstance(start_time, list) and isinstance(end_time, list) and len(start_time) != len(end_time):\n",
        "    raise ValueError(\"Error! length of start time list must be equal to length of end time list\")\n",
        "\n",
        "if isinstance(start_time, int):\n",
        "    start_time = [start_time]\n",
        "if isinstance(end_time, int):\n",
        "    end_time = [end_time]\n",
        "if not start_time:\n",
        "    start_time = [0]\n",
        "if not end_time:\n",
        "    end_time = [total_seconds]\n",
        "\n",
        "check_list = [start <= end for start, end in zip(start_time, end_time)]\n",
        "if max(end_time) > total_seconds:\n",
        "    raise ValueError(\"Error! time in end time list exceeds total seconds\")\n",
        "elif not min(check_list):\n",
        "    raise ValueError(\"Error! start time is bigger than end time\")\n",
        "\n",
        "# Initialization\n",
        "frameCount = 0\n",
        "\n",
        "start_frame_list = [round(time * fps) for time in start_time]\n",
        "end_frame_list = [round(time * fps) for time in end_time]\n",
        "duration_of_frame = round(fps / 5)\n",
        "\n",
        "print(\"Original FPS: \", fps)\n",
        "print(\"Extracted FPS: \", 5)\n",
        "print(\"Number of frames: \", total_frames)\n",
        "print(\"Total seconds: \", total_seconds)\n",
        "print(\"Extracting...\")\n"
      ],
      "metadata": {
        "colab": {
          "base_uri": "https://localhost:8080/"
        },
        "id": "APMyVL8u_de0",
        "outputId": "89d0f071-e5a4-4108-98f7-be91bc2ba9df"
      },
      "execution_count": null,
      "outputs": [
        {
          "output_type": "stream",
          "name": "stdout",
          "text": [
            "Original FPS:  29.97002997002997\n",
            "Extracted FPS:  5\n",
            "Number of frames:  238780.0\n",
            "Total seconds:  7967.292666666667\n",
            "Extracting...\n",
            "Finish\n"
          ]
        }
      ]
    },
    {
      "cell_type": "code",
      "source": [
        "# Extract frames from file\n",
        "for start, end in zip(start_frame_list, end_frame_list):  # what does zip do?\n",
        "    cap.set(cv2.CAP_PROP_POS_FRAMES, start - 1)\n",
        "    while start < end:\n",
        "        ret, image = cap.read()\n",
        "        if not ret:\n",
        "            break\n",
        "        cv2.imwrite(path + '/frame' + str(frameCount) + '.jpg', image)\n",
        "        start += duration_of_frame\n",
        "        cap.set(cv2.CAP_PROP_POS_FRAMES, start - 1)\n",
        "        frameCount += 1\n",
        "            \n",
        "        if frameCount % 100 == 0:\n",
        "          print('Finish', frameCount, 'frames')\n"
      ],
      "metadata": {
        "id": "oKwwOAlbOeho"
      },
      "execution_count": null,
      "outputs": []
    },
    {
      "cell_type": "markdown",
      "source": [
        "#GLCM Gray-Level Co-Occurrence Matrix"
      ],
      "metadata": {
        "id": "CWZUB2u9CHDZ"
      }
    },
    {
      "cell_type": "code",
      "source": [
        "#GLCM Gray-Level Co-Occurrence Matrix\n",
        "def maxGrayLevel(img):\n",
        "    max_gray_level=0\n",
        "    (height,width)=img.shape\n",
        "\n",
        "    for y in range(height):\n",
        "        for x in range(width):\n",
        "            if img[y][x] > max_gray_level:\n",
        "                max_gray_level = img[y][x]\n",
        "                \n",
        "    return max_gray_level+1\n"
      ],
      "metadata": {
        "id": "4cMUe8e3IWCL"
      },
      "execution_count": null,
      "outputs": []
    },
    {
      "cell_type": "code",
      "source": [
        "def getGlcm(input,d_x,d_y):\n",
        "    srcdata=input.copy()\n",
        "    ret=[[0.0 for i in range(gray_level)] for j in range(gray_level)]\n",
        "    (height,width) = input.shape\n",
        "\n",
        "    max_gray_level=maxGrayLevel(input)\n",
        "\n",
        "    #if the number of gray levels is greater than gray_level, reduce the gray level of the image to gray_level and reduce the size of the gray level co-occurrence matrix\n",
        "\n",
        "    if max_gray_level > gray_level:\n",
        "        for j in range(height):\n",
        "            for i in range(width):\n",
        "                srcdata[j][i] = srcdata[j][i]*gray_level / max_gray_level\n",
        "\n",
        "    for j in range(height-d_y):\n",
        "        for i in range(width-d_x):\n",
        "             rows = srcdata[j][i]\n",
        "             cols = srcdata[j + d_y][i+d_x]\n",
        "             ret[rows][cols]+=1\n",
        "\n",
        "    for i in range(gray_level):\n",
        "        for j in range(gray_level):\n",
        "            ret[i][j]/=float(height*width)\n",
        "\n",
        "    return ret\n"
      ],
      "metadata": {
        "id": "jWUwvVmBFghs"
      },
      "execution_count": null,
      "outputs": []
    },
    {
      "cell_type": "markdown",
      "source": [
        "#Feature Computation"
      ],
      "metadata": {
        "id": "RJH8VqfHCRtK"
      }
    },
    {
      "cell_type": "code",
      "source": [
        "\n",
        "def feature_computer(p, feature):\n",
        "    Con=0.0                                                           # Contrast\n",
        "    Ent=0.0                                                           # Entropy\n",
        "    Asm=0.0                                                           # Angular Second Moment \n",
        "    Idm=0.0                                                           # Inverse Differential Moment\n",
        "    Eng=0.0                                                           # Energy\n",
        "    Corr=0.0                                                          # Correlation\n",
        "    Dis=0.0                                                           # Dissimilarity\n",
        "    Uni=0.0                                                           # Uniformity\n",
        "    for i in range(gray_level):\n",
        "        for j in range(gray_level):\n",
        "            Con += (i-j)*(i-j)*p[i][j]\n",
        "            Asm += p[i][j]*p[i][j]\n",
        "            Idm += p[i][j]/(1+(i-j)*(i-j))\n",
        "            Dis += p[i][j]*abs(i-j)\n",
        "            \n",
        "            if (1-abs(i-j)) > 0:\n",
        "                Uni += p[i][j]/(1-abs(i-j))\n",
        "        \n",
        "            if p[i][j]>0.0:\n",
        "                Ent+=p[i][j]*math.log(p[i][j])\n",
        "                \n",
        "    Eng = Asm**0.5\n",
        "    \n",
        "            \n",
        "    if feature == 'contrast':\n",
        "        return Con\n",
        "    elif feature == 'entropy':\n",
        "        return -Ent\n",
        "    elif feature == 'ASM':\n",
        "        return Asm\n",
        "    elif feature == 'IDM':\n",
        "        return Idm\n",
        "    elif feature == 'energy':\n",
        "        return Eng\n",
        "    elif feature == 'dissimilarity':\n",
        "        return Dis\n",
        "    elif feature == 'uniformity':\n",
        "        return Uni\n",
        "    else:\n",
        "        print('\\033[41m' + \"Error! Feature must be contrast, entropy, ASM, IDM, energy, dissimilarity or uniformity\" + '\\033[0m')"
      ],
      "metadata": {
        "id": "tEoHCcKLFgKS"
      },
      "execution_count": null,
      "outputs": []
    },
    {
      "cell_type": "markdown",
      "source": [
        "#Main Funtion"
      ],
      "metadata": {
        "id": "S2o2vjzwI2fo"
      }
    },
    {
      "cell_type": "code",
      "source": [
        "input_dir = path\n",
        "img_paths = []\n",
        "for i in range(int(frameCount)):\n",
        "    if os.path.isfile(input_dir + '/frame' + str(i) +'.jpg'):\n",
        "        img_paths.append(input_dir + r'/frame' + str(i) +'.jpg')\n",
        "    else:\n",
        "        print('frame' + str(i) +'.jpg'+\"doesn't in the directory\")"
      ],
      "metadata": {
        "id": "_FDNStyHDygQ"
      },
      "execution_count": null,
      "outputs": []
    },
    {
      "cell_type": "code",
      "source": [
        "startTime = time.time()\n",
        "\n",
        "feature_list = []\n",
        "counter = 0\n",
        "\n",
        "#Define the maximum number of gray levels\n",
        "\n",
        "gray_level = 16 \n",
        "for img_path in img_paths:\n",
        "    counter += 1\n",
        "    img = cv2.imread(img_path,0)\n",
        "    \n",
        "    # get 2D fft magnitude spectrum\n",
        "    f = np.fft.fft2(img)\n",
        "    fshift = np.fft.fftshift(f)\n",
        "    magnitude_spectrum = 20*np.log(np.abs(fshift))\n",
        "    cv2.imwrite(out+'/magnitude_spectrum.bmp', magnitude_spectrum) # output the 2D-fft spectrum image\n",
        "\n",
        "    \n",
        "    # get GLCM and features\n",
        "    img_spectrum = cv2.imread(out+'/magnitude_spectrum.bmp', 0) # read the 2D-fft spectrum image\n",
        "    img_shape = img_spectrum.shape\n",
        "    img_spectrum = cv2.resize(img,(int(img_shape[1]/2),int(img_shape[0]/2)),interpolation=cv2.INTER_CUBIC)\n",
        "    \n",
        "    # Different GLCM direction\n",
        "    glcm_0 = getGlcm(img_spectrum, 1,0)\n",
        "    glcm_1 = getGlcm(img_spectrum, 0,1)\n",
        "    glcm_2 = getGlcm(img_spectrum, 1,1)\n",
        "\n",
        "    # GLCM features\n",
        "    con = feature_computer(glcm_0, 'contrast')\n",
        "    ent = feature_computer(glcm_0, 'entropy')\n",
        "    ASM = feature_computer(glcm_0, 'ASM')\n",
        "    #IDM = feature_computer(glcm_0, 'IDM')\n",
        "    eng = feature_computer(glcm_0, 'energy')\n",
        "    dis = feature_computer(glcm_0, 'dissimilarity')\n",
        "    #uni = feature_computer(glcm_0, 'uniformity')\n",
        "    \n",
        "    feature_list.append([con, ent, ASM, eng, dis]) \n",
        "    \n",
        "    if counter % 500 == 0:\n",
        "        print('Finish', counter, 'frames')\n",
        "\n",
        "\n",
        "timeCost = time.time()-startTime\n",
        "print('Fetch the feature list costs : %d minutes %d seconds' %((timeCost // 60), (timeCost % 60)))"
      ],
      "metadata": {
        "colab": {
          "base_uri": "https://localhost:8080/"
        },
        "id": "Yfb28nCTJeXB",
        "outputId": "fa0b9dca-a1e7-4590-f1dc-5ed79c10b62d"
      },
      "execution_count": null,
      "outputs": [
        {
          "output_type": "stream",
          "name": "stdout",
          "text": [
            "Finish 100 frames\n",
            "Finish 200 frames\n",
            "Finish 300 frames\n",
            "Finish 400 frames\n",
            "Finish 500 frames\n",
            "Finish 600 frames\n",
            "Finish 700 frames\n",
            "Finish 800 frames\n",
            "Finish 900 frames\n",
            "Finish 1000 frames\n",
            "Finish 1100 frames\n",
            "Finish 1200 frames\n",
            "Finish 1300 frames\n",
            "Finish 1400 frames\n",
            "Finish 1500 frames\n",
            "Finish 1600 frames\n",
            "Finish 1700 frames\n",
            "Finish 1800 frames\n",
            "Finish 1900 frames\n",
            "Finish 2000 frames\n",
            "Finish 2100 frames\n",
            "Finish 2200 frames\n",
            "Finish 2300 frames\n",
            "Finish 2400 frames\n",
            "Finish 2500 frames\n",
            "Finish 2600 frames\n",
            "Finish 2700 frames\n",
            "Finish 2800 frames\n",
            "Finish 2900 frames\n",
            "Finish 3000 frames\n",
            "Finish 3100 frames\n",
            "Finish 3200 frames\n",
            "Finish 3300 frames\n",
            "Finish 3400 frames\n",
            "Finish 3500 frames\n",
            "Finish 3600 frames\n",
            "Finish 3700 frames\n",
            "Finish 3800 frames\n",
            "Finish 3900 frames\n",
            "Finish 4000 frames\n",
            "Finish 4100 frames\n",
            "Finish 4200 frames\n",
            "Finish 4300 frames\n",
            "Finish 4400 frames\n",
            "Finish 4500 frames\n",
            "Finish 4600 frames\n",
            "Finish 4700 frames\n",
            "Finish 4800 frames\n",
            "Finish 4900 frames\n",
            "Finish 5000 frames\n",
            "Finish 5100 frames\n",
            "Finish 5200 frames\n",
            "Finish 5300 frames\n",
            "Fetch the feature list costs : 23 minutes 36 seconds\n"
          ]
        }
      ]
    },
    {
      "cell_type": "markdown",
      "source": [
        "#KMeans Clustering of Features"
      ],
      "metadata": {
        "id": "rr1PmdQaCa9M"
      }
    },
    {
      "cell_type": "code",
      "source": [
        "startTime = time.time()\n",
        "\n",
        "k = 3\n",
        "kmeans = KMeans(n_clusters=k)\n",
        "kmeans.fit(feature_list)\n",
        "label = kmeans.labels_\n",
        "\n",
        "timeCost = time.time() - startTime\n",
        "print('Training this model costs : %d minutes %d seconds' %((timeCost // 60), (timeCost % 60)))"
      ],
      "metadata": {
        "colab": {
          "base_uri": "https://localhost:8080/"
        },
        "id": "IbbiK_ugJhDK",
        "outputId": "422768a5-e453-4a8c-9cfa-43d9594d072a"
      },
      "execution_count": null,
      "outputs": [
        {
          "output_type": "stream",
          "name": "stdout",
          "text": [
            "Training this model costs : 0 minutes 0 seconds\n"
          ]
        }
      ]
    },
    {
      "cell_type": "markdown",
      "source": [
        "#Folders For Informative and Non-informative features"
      ],
      "metadata": {
        "id": "KDSEnQB5Cfya"
      }
    },
    {
      "cell_type": "code",
      "source": [
        "#Delete all folder then create new one\n",
        "for x in range(k):\n",
        "    if os.path.isdir(out+r'/a'+str(x)):\n",
        "        shutil.rmtree(out+r'/a'+str(x))\n",
        "        os.mkdir(out+r'/a'+str(x))\n",
        "    else:\n",
        "        os.mkdir(out+r'/a'+str(x))\n",
        "      "
      ],
      "metadata": {
        "id": "kAJ3Ul1kPYgT"
      },
      "execution_count": null,
      "outputs": []
    },
    {
      "cell_type": "markdown",
      "source": [
        "#Sorting of Frames"
      ],
      "metadata": {
        "id": "oIACIIPJCmb0"
      }
    },
    {
      "cell_type": "code",
      "source": [
        "#%% save the result of cluster\n",
        "startTime = time.time()\n",
        "i=0\n",
        "cluster_result = []\n",
        "for path1 in img_paths:\n",
        "    image = cv2.imread(path1)   \n",
        "    for x in range(k):\n",
        "        if label[i] == x:\n",
        "          cv2.imwrite(out +'/a'+str(x)+'/frane' +str(i) + '.jpg', image)\n",
        "          break\n",
        "        else:\n",
        "            continue\n",
        "    i=i+1\n",
        "timeCost = time.time()-startTime\n",
        "print('Save the classified results costs : %d minutes %d seconds' %((timeCost // 60), (timeCost % 60)))"
      ],
      "metadata": {
        "colab": {
          "base_uri": "https://localhost:8080/"
        },
        "id": "jcoOWt0XWN8I",
        "outputId": "3d8f347f-a94d-43fa-d7a5-d8f0c4d30822"
      },
      "execution_count": null,
      "outputs": [
        {
          "output_type": "stream",
          "name": "stdout",
          "text": [
            "Save the classified results costs : 0 minutes 17 seconds\n"
          ]
        }
      ]
    },
    {
      "cell_type": "markdown",
      "source": [
        "#Download frames"
      ],
      "metadata": {
        "id": "dxPFpC_dCojf"
      }
    },
    {
      "cell_type": "code",
      "source": [
        "from google.colab import files\n",
        "dir_to_zip = '/content/output_dir/'\n",
        "output_filename = 'file1.zip' \n",
        "delete_dir_after_download = \"No\" \n",
        "os.system( \"zip -r {} {}\".format( output_filename , dir_to_zip ) )\n",
        "if delete_dir_after_download == \"Yes\":\n",
        "    os.system( \"rm -r {}\".format( dir_to_zip ) )\n",
        "files.download( output_filename )\n"
      ],
      "metadata": {
        "colab": {
          "base_uri": "https://localhost:8080/",
          "height": 17
        },
        "id": "ennsvmHubtPp",
        "outputId": "06ed1c78-3431-4ae4-80eb-c1f233dc9f5a"
      },
      "execution_count": null,
      "outputs": [
        {
          "output_type": "display_data",
          "data": {
            "text/plain": [
              "<IPython.core.display.Javascript object>"
            ],
            "application/javascript": [
              "\n",
              "    async function download(id, filename, size) {\n",
              "      if (!google.colab.kernel.accessAllowed) {\n",
              "        return;\n",
              "      }\n",
              "      const div = document.createElement('div');\n",
              "      const label = document.createElement('label');\n",
              "      label.textContent = `Downloading \"${filename}\": `;\n",
              "      div.appendChild(label);\n",
              "      const progress = document.createElement('progress');\n",
              "      progress.max = size;\n",
              "      div.appendChild(progress);\n",
              "      document.body.appendChild(div);\n",
              "\n",
              "      const buffers = [];\n",
              "      let downloaded = 0;\n",
              "\n",
              "      const channel = await google.colab.kernel.comms.open(id);\n",
              "      // Send a message to notify the kernel that we're ready.\n",
              "      channel.send({})\n",
              "\n",
              "      for await (const message of channel.messages) {\n",
              "        // Send a message to notify the kernel that we're ready.\n",
              "        channel.send({})\n",
              "        if (message.buffers) {\n",
              "          for (const buffer of message.buffers) {\n",
              "            buffers.push(buffer);\n",
              "            downloaded += buffer.byteLength;\n",
              "            progress.value = downloaded;\n",
              "          }\n",
              "        }\n",
              "      }\n",
              "      const blob = new Blob(buffers, {type: 'application/binary'});\n",
              "      const a = document.createElement('a');\n",
              "      a.href = window.URL.createObjectURL(blob);\n",
              "      a.download = filename;\n",
              "      div.appendChild(a);\n",
              "      a.click();\n",
              "      div.remove();\n",
              "    }\n",
              "  "
            ]
          },
          "metadata": {}
        },
        {
          "output_type": "display_data",
          "data": {
            "text/plain": [
              "<IPython.core.display.Javascript object>"
            ],
            "application/javascript": [
              "download(\"download_8f5df5a1-f565-4215-a011-29f81ad0ddd7\", \"file1.zip\", 303790134)"
            ]
          },
          "metadata": {}
        }
      ]
    }
  ]
}